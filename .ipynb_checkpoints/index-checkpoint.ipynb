{
 "cells": [
  {
   "cell_type": "markdown",
   "metadata": {},
   "source": [
    "# What is machine learning?"
   ]
  },
  {
   "cell_type": "markdown",
   "metadata": {},
   "source": [
    "Machine learning is any algorithm in which a computer learns from data and experience in order to minimize or maximize some cost function. Typically this is set up to minimize error or maximize performance accuracy."
   ]
  },
  {
   "cell_type": "markdown",
   "metadata": {},
   "source": [
    "# What are the two major subdivisions with machine learning?"
   ]
  },
  {
   "cell_type": "markdown",
   "metadata": {},
   "source": [
    "The two major divisions in machine learning are supervised and unsupervised learning. Often there are two other categories; deep learning and reinforcement learning, but they are well outside the scope of this course."
   ]
  },
  {
   "cell_type": "markdown",
   "metadata": {},
   "source": [
    "# What is the difference between regression and classification algorithms?"
   ]
  },
  {
   "cell_type": "markdown",
   "metadata": {},
   "source": [
    "Regression algorithms predict a numerical quantity such as age, price or blood pressure. Classification algorithms predict categorical data such as 'is fradulent activity' vs 'is not fradulent activity', 'is a dog' vs 'is not a dog' or which digit is this a picture of? Measuring the performance of these algorithms is substantially different leading to the generalized distincition."
   ]
  },
  {
   "cell_type": "markdown",
   "metadata": {},
   "source": [
    "# What type of algorithm would you use to predict which state someone lived in?"
   ]
  },
  {
   "cell_type": "markdown",
   "metadata": {},
   "source": [
    "A classification algorithm would be most appropriate for predicting a categorical variable such as what jurisdiction an individual lived in."
   ]
  },
  {
   "cell_type": "markdown",
   "metadata": {},
   "source": [
    "# What type of algorithm would you use to predict someone's SAT score?"
   ]
  },
  {
   "cell_type": "markdown",
   "metadata": {},
   "source": [
    "A regression algorithm would be most appropriate for predicting a numerical quantity such as an SAT score."
   ]
  },
  {
   "cell_type": "markdown",
   "metadata": {},
   "source": [
    "# What kind of algorithm would you use to group customers into groups based on similar behavior?"
   ]
  },
  {
   "cell_type": "markdown",
   "metadata": {},
   "source": [
    "A clustering algorithm allows you to group data into homogenous groupings. This is a type of unsupervised learning algorithm and would be most appropriate for this scenario."
   ]
  },
  {
   "cell_type": "markdown",
   "metadata": {},
   "source": [
    "# What kind of algorithm would you use to visualize a dataset with 20 variables?"
   ]
  },
  {
   "cell_type": "markdown",
   "metadata": {},
   "source": [
    "A dimensionality reduction algorithm such as PCA or TSNE would be most appropriate for visualizing a dataset with a large number of features."
   ]
  }
 ],
 "metadata": {
  "kernelspec": {
   "display_name": "Python 3",
   "language": "python",
   "name": "python3"
  },
  "language_info": {
   "codemirror_mode": {
    "name": "ipython",
    "version": 3
   },
   "file_extension": ".py",
   "mimetype": "text/x-python",
   "name": "python",
   "nbconvert_exporter": "python",
   "pygments_lexer": "ipython3",
   "version": "3.6.5"
  }
 },
 "nbformat": 4,
 "nbformat_minor": 2
}
